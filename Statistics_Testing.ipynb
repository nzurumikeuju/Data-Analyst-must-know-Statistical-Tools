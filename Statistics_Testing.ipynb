{
 "cells": [
  {
   "cell_type": "code",
   "execution_count": null,
   "id": "8a1ec765-10a9-4995-9a5f-bc33650e601d",
   "metadata": {},
   "outputs": [],
   "source": [
    "#imports necessary libraries and reads in Data\n",
    "import pandas as pd\n",
    "import numpy as np\n",
    "from scipy.stats import skew\n",
    "import matplotlib.pyplot as plt\n",
    "df = pd.read_csv('C:/Users/My Account/Desktop/StudentsPerformance.csv')\n",
    "df.head()"
   ]
  },
  {
   "cell_type": "code",
   "execution_count": null,
   "id": "3dbc1e2c-4be7-4bc9-9203-f9d2f0deb352",
   "metadata": {},
   "outputs": [],
   "source": [
    "#I generated a column for Total Score (feature Engineering, if you like)\n",
    "df['total score'] = df['math score'] + df['reading score'] + df['writing score']\n",
    "df.head()\n"
   ]
  },
  {
   "cell_type": "code",
   "execution_count": null,
   "id": "a45dbf9c-76bd-40c2-84e7-9253232d37f7",
   "metadata": {
    "scrolled": true
   },
   "outputs": [],
   "source": [
    "#Tells you the columns in the dataset. I often use it to confirm how the columns are spelt or wrtitten \n",
    "print(df.columns)"
   ]
  },
  {
   "cell_type": "code",
   "execution_count": null,
   "id": "556c1288-c5d3-4561-b215-d6b625c61e30",
   "metadata": {
    "scrolled": true
   },
   "outputs": [],
   "source": [
    "#Test 1 Descriptive statistics: This summarize and describe the main features of a dataset \n",
    "#Describe the statistics of the numerical values in the dataset\n",
    "df.describe()"
   ]
  },
  {
   "cell_type": "code",
   "execution_count": null,
   "id": "3c28a38a-3083-457e-9b3e-1b9c559d3acd",
   "metadata": {},
   "outputs": [],
   "source": [
    "#Alternatively, to describe the main features of a specific column say Math Score, we can use \n",
    "\n",
    "math = df['math score']\n",
    "\n",
    "print(\"Mean:\", math.mean())\n",
    "print(\"Median:\", math.median())\n",
    "print(\"Mode:\", math.mode().values)\n",
    "print(\"Standard Deviation:\", math.std())\n",
    "print(\"Variance:\", math.var())\n",
    "print(\"Min:\", math.min())\n",
    "print(\"Max:\", math.max())\n",
    "print(\"Range:\", math.max() - math.min())\n"
   ]
  },
  {
   "cell_type": "code",
   "execution_count": null,
   "id": "ab2cac65-dd83-4b87-9a30-8d1d6238722f",
   "metadata": {},
   "outputs": [],
   "source": []
  },
  {
   "cell_type": "code",
   "execution_count": null,
   "id": "01a390c8-6ca9-4a20-9645-04852799a121",
   "metadata": {
    "scrolled": true
   },
   "outputs": [],
   "source": [
    "#Test2 :Skewness \n",
    "#Skewness tells a data analyst if the data is symmetric or Asymmetric.\n",
    "#Understanding skewness helps choose the right:\n",
    "#Descriptive stats\n",
    "#Visualizations (e.g., histograms, boxplots)\n",
    "#Modeling techniques (e.g., transformations)\n",
    "\n",
    "#Let's check the skewness of the numeric values in the dataset\n",
    "# Step 1: Select numeric columns only\n",
    "numeric_cols = df.select_dtypes(include=['int64', 'float64'])\n",
    "\n",
    "# Step 2: Calculate skewness and interpret\n",
    "print(\"Skewness Analysis:\\n\")\n",
    "\n",
    "for col in numeric_cols.columns:\n",
    "    value = skew(df[col], nan_policy='omit')  # handles NaNs\n",
    "    interpretation = (\n",
    "        \"Symmetric\" if abs(value) < 0.5 else\n",
    "        \"Moderately Skewed\" if abs(value) < 1 else\n",
    "        \"Highly Skewed\"\n",
    "    )\n",
    "    direction = (\n",
    "        \" (Right/Positive)\" if value > 0 else\n",
    "        \" (Left/Negative)\" if value < 0 else \"\"\n",
    "    )\n",
    "    print(f\"{col}: Skewness = {value:.3f} → {interpretation}{direction}\")"
   ]
  },
  {
   "cell_type": "code",
   "execution_count": null,
   "id": "16d949fd-9f87-4d9b-93f1-ad5ecf86745f",
   "metadata": {},
   "outputs": [],
   "source": [
    "#Test 3: Boxplots/Histograms to visualize the score distributions and check for the numerical values:\n",
    "#Spread (variance), Symmetry vs skewness and Outliers (extremely high or low scores)\n",
    "\n",
    "score_cols = ['math score', 'reading score', 'writing score', 'total score']\n",
    "\n",
    "for col in score_cols:\n",
    "    plt.figure(figsize=(6, 4))\n",
    "    plt.hist(df[col], bins=20, color='red', edgecolor='black')\n",
    "    plt.title(f'Histogram of {col}')\n",
    "    plt.xlabel(col)\n",
    "    plt.ylabel('Frequency')\n",
    "    plt.grid(True)\n",
    "    plt.tight_layout()\n",
    "    plt.show()\n"
   ]
  },
  {
   "cell_type": "markdown",
   "id": "4e4ef91a-5e4e-4b92-9703-2a0ce214dd4f",
   "metadata": {},
   "source": [
    "Overall Insights for the Data Analyst:\n",
    "s/N    Score Type\t              Symmetry/Skewness            \t               Insights\n",
    "1.     Math\t                      Symmetric\tNormal distribution,               centered around 65\n",
    "2.     Reading\t                  Symmetric\tConsistent high performance        peak ~70–75\n",
    "3.     Writing\t                  Slightly left-skewed\t                       Some students struggle more here\n",
    "4.     Total\t                  Slightly left-skewed\t                       Mostly well-balanced, a few low scorers\n",
    "\n",
    "These distributions are ideal for statistical testing and modeling, since they’re mostly normal. \n",
    "The slight skewness in writing scores may need attention depending on your next step (e.g., regression or hypothesis testing)."
   ]
  },
  {
   "cell_type": "code",
   "execution_count": null,
   "id": "a1b6b696-263f-4096-80c9-df756e57af01",
   "metadata": {},
   "outputs": [],
   "source": [
    "#Test 4: Boxplots – Shows the spread of data and detects outliers\n",
    "\n",
    "for col in score_cols:\n",
    "    plt.figure(figsize=(6, 3))\n",
    "    plt.boxplot(df[col], vert = False)\n",
    "    plt.title(f'Boxplot of {col}')\n",
    "    plt.xlabel(col)\n",
    "    plt.grid(True)\n",
    "    plt.tight_layout()\n",
    "    plt.show()"
   ]
  },
  {
   "cell_type": "markdown",
   "id": "eca8ddde-7a07-4a9c-a00b-316f71836967",
   "metadata": {},
   "source": [
    "How to Read a Boxplot \n",
    "Middle line = Median (Q2), \n",
    "Box = Interquartile range (IQR, from Q1 to Q3)\n",
    "Whiskers = Approx. min and max values (within 1.5×IQR)\n",
    "Dots outside whiskers = Outliers\n",
    "\n",
    "s/N    Score Type\t        Skew/Spread\tOutliers?           \tKey Insight\n",
    "1.     Math\t                Right/ Yes                          several very low performers\n",
    "2.    Reading               Symmetric/Few\t                    High consistency,fewer struggling students\n",
    "3.    Writing\t            Left/ Yes\t                        More low-end outliers\n",
    "4.    Total\t                Mostly symmetric/Yes\t            A few students significantly underperformed\n",
    "\n"
   ]
  },
  {
   "cell_type": "markdown",
   "id": "566e0e8c-6cda-42f1-9c1a-ac80fc7a8eba",
   "metadata": {},
   "source": []
  },
  {
   "cell_type": "code",
   "execution_count": null,
   "id": "7fd3c48b-e713-4f31-9f11-75114e618f19",
   "metadata": {},
   "outputs": [],
   "source": [
    "#Test 5: T Score – used when you want to compare the means of two groups. \n",
    "#It is commonly used when the sample size is large (n < 30), and the population standard deviation (σ) is not known \n",
    "#Compare average exam scores between two groups, such as: Male vs Female\n",
    "#Interpretation Guide:\n",
    "# p < 0.05: Statistically significant difference \n",
    "#p ≥ 0.05: No significant difference \n",
    "#T-statistic: Direction and size of the difference\n",
    "\n",
    "#import library\n",
    "from scipy.stats import ttest_ind\n",
    "\n",
    "# Separate groups\n",
    "male_math = df[df['gender'] == 'male']['math score']\n",
    "female_math = df[df['gender'] == 'female']['math score']\n",
    "\n",
    "# Perform t-test\n",
    "t_stat, p_val = ttest_ind(male_math, female_math)\n",
    "\n",
    "# Display results\n",
    "print(\"T-Test for Math Score: Male vs Female\")\n",
    "print(f\"T-statistic: {t_stat:.4f}\")\n",
    "print(f\"P-value: {p_val:.4f}\")\n",
    "\n",
    "# Interpretation\n",
    "if p_val < 0.05:\n",
    "    print(\"Interpretation:Statistically significant difference in math scores between genders.\")\n",
    "else:\n",
    "    print(\"Interpretation: No statistically significant difference in math scores between genders.\")"
   ]
  },
  {
   "cell_type": "markdown",
   "id": "1ad55268-b66f-4b58-b670-f0e1c165d6e5",
   "metadata": {},
   "source": [
    "When we compared the math scores of male and female students, we found that the difference in their average scores is statistically significant, it\n",
    "is not just due to random chance — it's real and meaningful. In simpler terms: Gender has a measurable impact on math performance in this dataset.\n",
    "Use case for T-Test: if you’re testing whether a new drug leads to better recovery rates than an existing one, you would use a T-test to compare the means of recovery times between the two groups"
   ]
  },
  {
   "cell_type": "markdown",
   "id": "fd8e35a2-8c31-481c-9061-21b3b4d02e7b",
   "metadata": {},
   "source": []
  },
  {
   "cell_type": "code",
   "execution_count": null,
   "id": "7655d747-5544-4527-a438-db2e2c66ed19",
   "metadata": {},
   "outputs": [],
   "source": [
    "#Test 6: Z-Test: A Z-test is used to determine whether a sample mean significantly differs from a known population mean, or\n",
    "#another sample mean. It is commonly used when the sample size is large (n > 30), and the population standard deviation (σ) is known \n",
    "\n",
    "#Using the Math Score, we can check if students in this dataset score significantly different in math from a national average of 70?\n",
    "\n",
    "\n",
    "from scipy import stats  # imports libray\n",
    "\n",
    "pop_mean = 70\n",
    "\n",
    "# Sample data\n",
    "sample = df['math score']\n",
    "sample_mean = np.mean(sample)\n",
    "sample_std = np.std(sample, ddof=1)\n",
    "n = len(sample)\n",
    "\n",
    "# Z-score calculation\n",
    "z = (sample_mean - pop_mean) / (sample_std / np.sqrt(n))\n",
    "\n",
    "# Two-tailed p-value\n",
    "p_value = 2 * (1 - stats.norm.cdf(abs(z)))\n",
    "\n",
    "# Results\n",
    "print(f\"Z-score: {z:.4f}\")\n",
    "print(f\"P-value: {p_value:.4f}\")\n",
    "\n",
    "if p_value < 0.05:\n",
    "    print(\"→ Statistically significant: sample mean is different from population mean.\")\n",
    "else:\n",
    "    print(\"→ Not statistically significant: no strong evidence of a difference.\")\n",
    "\n"
   ]
  },
  {
   "cell_type": "markdown",
   "id": "08fb18d3-f740-4cad-b85e-c28b228ce46b",
   "metadata": {},
   "source": [
    "Interpretation:\n",
    "Z-score: -8.16 - This means our sample mean is over 8 standard errors below the population mean.\n",
    "\n",
    "P-value: 0.0000\n",
    "A p-value of 0.0000 (technically < 0.0001) means the probability of getting a sample mean this extreme\n",
    "— if the population mean were correct — is virtually zero.\n",
    "\n",
    "There is extremely strong statistical evidence that your sample mean is different from the population mean."
   ]
  },
  {
   "cell_type": "markdown",
   "id": "f737f0ed-3d60-4787-a638-e201152cd278",
   "metadata": {},
   "source": [
    "Comparative difference between T-Test vs Z-Test\n",
    "Feature\t                           T-Test                                    Z-Test\n",
    "Use when                           σ is unknown\t                             σ is known \n",
    "Sample size\t                       Small(n < 30)\t                         Large (n ≥ 30)\n",
    "Distribution\t                   Uses the t-distribution\t                 Uses the normal distribution\n",
    "Common use case\t                   Compare means(e.g., male vs female)\t     Compare sample vs population mean"
   ]
  },
  {
   "cell_type": "code",
   "execution_count": null,
   "id": "6fc108ab-94ef-45cf-8a6a-6e92ba225546",
   "metadata": {},
   "outputs": [],
   "source": []
  },
  {
   "cell_type": "code",
   "execution_count": null,
   "id": "edfc46a7-3869-4a92-94ae-f1e1b882ef93",
   "metadata": {},
   "outputs": [],
   "source": [
    "#Test 7: Chi-Square Test – Relationship Between Categorical Variables\n",
    "#The Chi-Square test is used when working with categorical data to assess whether there’s a statistical association between two variables\n",
    "# Race/Ethnicity vs Parental Level of Education\n",
    "#Is there a statistically significant association between a student’s race/ethnicity and their parental level of education?\n",
    "#import library\n",
    "from scipy.stats import chi2_contingency # chi2_contingency is the function from scipy to perform the Chi-Square test of independence.\n",
    "\n",
    "# Create a contingency table\n",
    "contingency_table = pd.crosstab(df['race/ethnicity'], df['parental level of education']) #creates a cross-tabulation between the two variables.\n",
    "\n",
    "# Perform Chi-Square Test\n",
    "chi2, p, dof, expected = chi2_contingency(contingency_table)\n",
    "\n",
    "# Display results\n",
    "print(f\"\\nChi-Square Statistic: {chi2:.4f}\")\n",
    "print(f\"P-value: {p:.4f}\")\n",
    "print(f\"Degrees of Freedom: {dof}\")\n",
    "\n",
    "# Interpretation\n",
    "if p < 0.05:\n",
    "    print(\"\\n Interpretation: Statistically significant association between race/ethnicity and parental education level.\")\n",
    "else:\n",
    "    print(\"\\n InterpreattionNo statistically significant association between race/ethnicity and parental education level.\")\n"
   ]
  },
  {
   "cell_type": "markdown",
   "id": "59795c24-3fa2-49a0-b4dc-7e464fbb6190",
   "metadata": {},
   "source": [
    "If p < 0.05: There is a meaningful relationship between a student's racial/ethnic group and their parent's education level\n",
    "If p ≥ 0.05:“There’s no strong evidence that race/ethnicity is linked to differences in parental education in this dataset.\n",
    "\n",
    "The Chi-Square (χ²) value tells you how much the observed values in your contingency table deviate from the expected values (which assume no relationship between the variables).\n",
    "Higher χ² value means a greater difference between observed and expected frequencies, more evidence of a relationship.\n",
    "Lower χ² value means observed counts are close to what we'd expect by chance, no evidence of association.\n",
    "\n",
    "In conclusion: The differences in parental education levels across racial/ethnic groups in this dataset could very likely be due to chance."
   ]
  },
  {
   "cell_type": "code",
   "execution_count": null,
   "id": "4b3ba7f7-ab6a-46ad-9607-6bef3aac2ec6",
   "metadata": {
    "scrolled": true
   },
   "outputs": [],
   "source": [
    "#Test 8: Linear Regression – a statistical and machine learning technique used to model the relationship between a \n",
    "#dependent (target) and one or more independent variables (predictors) by fitting a straight line through the data\n",
    "\n",
    "# Use linear regression to predict a candidate's writing scores based on reading scores\n",
    "\n",
    "#import library\n",
    "from sklearn.linear_model import LinearRegression\n",
    "from sklearn.metrics import r2_score\n",
    "\n",
    "# Reshape X to 2D array for sklearn\n",
    "X = df[['reading score']]\n",
    "y = df['writing score']\n",
    "\n",
    "# Create and train the model\n",
    "model = LinearRegression()\n",
    "model.fit(X, y)\n",
    "\n",
    "# Predict writing scores\n",
    "y_pred = model.predict(X)\n",
    "\n",
    "# Coefficients\n",
    "print(f\"Intercept: {model.intercept_:.2f}\")\n",
    "print(f\"Slope: {model.coef_[0]:.2f}\")\n",
    "\n",
    "# Calculate R-squared\n",
    "r2 = r2_score(y, y_pred)\n",
    "print(f\"R-squared: {r2:.4f}\")\n",
    "\n",
    "# Plot\n",
    "plt.figure(figsize=(6,4))\n",
    "plt.scatter(X, y, color='blue', label='Actual')\n",
    "plt.plot(X, y_pred, color='red', linewidth=2, label='Regression Line')\n",
    "plt.xlabel('Reading Score')\n",
    "plt.ylabel('Writing Score')\n",
    "plt.title('Linear Regression: Reading → Writing')\n",
    "plt.legend()\n",
    "plt.grid(True)\n",
    "plt.tight_layout()\n",
    "plt.show()\n"
   ]
  },
  {
   "cell_type": "markdown",
   "id": "0c174805-bee3-4462-b2aa-0b8bfdb878b2",
   "metadata": {},
   "source": [
    "From the result slope: 0.99 and intercept = -0.67, we can write the equation for the predictive model as :\n",
    "Predicted Writing Score = −0.67+ 0.99 * Reading Score\n",
    "Slope means: For every 1 point increase in reading score, the writing score increases by 0.99 points, on average. \n",
    "Slope ≈ 1\tStrong, nearly perfect positive correlation\n",
    "R-squared score  tells us that 90% of the variation in writing scores can be explained by the reading scores using this linear model.\n",
    "That’s a very strong relationship, meaning the reading score is a very good predictor of writing performance.\n",
    "What the regression plot shows:\n",
    "Blue dots are tightly clustered around the red line, showing a strong linear relationship\n",
    "The red line rises steadily, showing a Positive correlation\n",
    "Very few extreme outliers shows that the Model likely generalizes well"
   ]
  },
  {
   "cell_type": "code",
   "execution_count": null,
   "id": "c0e6adbe-ecfe-4645-af7b-d7cab782d08a",
   "metadata": {},
   "outputs": [],
   "source": [
    "#Test 9: Correlation Analysis: This measures the strength and direction of the relationship between numeric or continous variables\n",
    "#A statistical measure (Pearson’s r) shows how strongly two variables move together.\n",
    "\n",
    "# Select numeric columns\n",
    "numeric_df = df[['math score', 'reading score', 'writing score', 'total score']]\n",
    "\n",
    "# Compute correlation matrix\n",
    "correlation_matrix = numeric_df.corr()\n",
    "\n",
    "# Display\n",
    "print(\"Correlation Matrix:\")\n",
    "print(correlation_matrix)\n",
    "\n",
    "#imports library\n",
    "\n",
    "import seaborn as sns\n",
    "\n",
    "plt.figure(figsize=(8, 6))\n",
    "sns.heatmap(correlation_matrix, annot=True, cmap='coolwarm', fmt=\".2f\")\n",
    "plt.title(\"Correlation Heatmap\")\n",
    "plt.show()\n",
    "\n"
   ]
  },
  {
   "cell_type": "markdown",
   "id": "1a08dad0-5757-4e22-bcf9-1f1264f5c435",
   "metadata": {},
   "source": [
    "The correlation matrix is made up of Pearson’s r values by default (when using .corr().\n",
    "Pearson’s r is the most common correlation coefficient. It measures the linear relationship between two continuous variables.\n",
    "Values range from -1 to +1:+1: Perfect positive linear relationship, 0: No linear relationship, –1: Perfect negative linear relationship\n",
    "Since all the values shows high and positive R, the variables have a strong linear relationship. When one goes up, the other almost always goes up too (and vice versa)"
   ]
  },
  {
   "cell_type": "code",
   "execution_count": null,
   "id": "04b52133-3b8d-4fc4-b518-8a5bc96c4279",
   "metadata": {},
   "outputs": [],
   "source": [
    "# 10: A/B Testing: This is a form of hypothesis testing used to compare two groups (Group A vs Group B) \n",
    "#to see if there's a statistically significant difference in an outcome. \n",
    "# Example: A/B test to compare math scores between Males and Females using a two-sample T-test \n",
    "\n",
    "from scipy.stats import ttest_ind\n",
    "\n",
    "# Separate the groups\n",
    "male_scores = df[df['gender'] == 'male']['math score']\n",
    "female_scores = df[df['gender'] == 'female']['math score']\n",
    "\n",
    "# Perform two-sample t-test\n",
    "t_stat, p_value = ttest_ind(male_scores, female_scores, equal_var=False)  # Welch’s T-test\n",
    "\n",
    "print(f\"T-statistic: {t_stat:.4f}\")\n",
    "print(f\"P-value: {p_value:.4f}\")\n",
    "\n",
    "# Interpretation\n",
    "if p_value < 0.05:\n",
    "    print(\"Statistically significant difference in math scores between genders.\")\n",
    "else:\n",
    "    print(\"No statistically significant difference in math scores between genders.\")"
   ]
  },
  {
   "cell_type": "code",
   "execution_count": null,
   "id": "f72f9bef-a0f7-4869-8b11-c1ffcc597104",
   "metadata": {},
   "outputs": [],
   "source": [
    "The result above shows that there is clear evidence that male and female students have different average math scores \n",
    "and this difference is not due to random chance.\""
   ]
  },
  {
   "cell_type": "code",
   "execution_count": null,
   "id": "625681f7-2713-41d6-a75f-adcac8a265e2",
   "metadata": {},
   "outputs": [],
   "source": [
    "#Test 11: Outliner Detection: This test is necessary to identify anomalies that may distort your analysis\n",
    "#We will use the IQR (Interquartile Range) method, which is the most common based on the statistical method (percentiles)\n",
    "\n",
    "Q1 = df['math score'].quantile(0.25)\n",
    "Q3 = df['math score'].quantile(0.75)\n",
    "IQR = Q3 - Q1\n",
    "\n",
    "# Define lower and upper bounds\n",
    "lower_bound = Q1 - 1.5 * IQR\n",
    "upper_bound = Q3 + 1.5 * IQR\n",
    "\n",
    "# Identify outliers\n",
    "outliers = df[(df['math score'] < lower_bound) | (df['math score'] > upper_bound)]\n",
    "print(\"Outliers based on IQR:\\n\", outliers[['math score']])"
   ]
  },
  {
   "cell_type": "markdown",
   "id": "0554edaf-5519-44d0-a35d-e1238b5f9372",
   "metadata": {},
   "source": [
    "The result above shows the row indices and math scores that fall significantly below the expected range:\n",
    "What Are Outliers?\n",
    "Outliers are data points that deviate significantly from the rest of the dataset. They can:\n",
    "1. Reveal data entry errors\n",
    "2. Indicate exceptional cases\n",
    "3. Skew your mean and standard deviation\n",
    "4. Mislead your regression models and hypothesis tests\n",
    "\n",
    "What Should a Data Analyst Do?\n",
    "1. Investigate if you suspect data entry issues (e.g., score of 0)\n",
    "2. Keep if the outliers are valid and represent real observations\n",
    "3. Remove if there are anomalies that skew analysis or modeling\n",
    "4. Flag\tFor robust modeling, flag or cap extreme values instead of dropping"
   ]
  }
 ],
 "metadata": {
  "kernelspec": {
   "display_name": "Python 3 (ipykernel)",
   "language": "python",
   "name": "python3"
  },
  "language_info": {
   "codemirror_mode": {
    "name": "ipython",
    "version": 3
   },
   "file_extension": ".py",
   "mimetype": "text/x-python",
   "name": "python",
   "nbconvert_exporter": "python",
   "pygments_lexer": "ipython3",
   "version": "3.11.7"
  }
 },
 "nbformat": 4,
 "nbformat_minor": 5
}
